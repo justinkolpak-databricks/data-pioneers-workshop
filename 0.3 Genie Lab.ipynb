{
 "cells": [
  {
   "cell_type": "markdown",
   "metadata": {
    "application/vnd.databricks.v1+cell": {
     "cellMetadata": {},
     "inputWidgets": {},
     "nuid": "55603adc-9db4-4ca2-a3b9-1802bf1a1f59",
     "showTitle": false,
     "tableResultSettingsMap": {},
     "title": ""
    }
   },
   "source": [
    "# Lab 3: AI/BI Genie\n",
    "In this lab, we will build an AI/BI Genie space to help us talk to our data using natural language!\n",
    "\n",
    "AI/BI Genie is a no-code interface powered by AI with data intelligence that allows business users to conduct self-serve data analytics using natural language. Domain experts, such as data analysts, configure Genie spaces with datasets, sample queries, and text guidelines to help Genie translate business questions into analytical queries. After set up, business users can ask questions and generate visualizations to understand operational data. You can continuously update Genie’s semantic knowledge as your data changes and users pose new questions.\n",
    "\n",
    "Link to the existing [Genie Space](https://e2-demo-field-eng.cloud.databricks.com/genie/rooms/01efea29f94016acbf0ed6dbf32cf77e?o=1444828305810485)"
   ]
  },
  {
   "cell_type": "markdown",
   "metadata": {
    "application/vnd.databricks.v1+cell": {
     "cellMetadata": {},
     "inputWidgets": {},
     "nuid": "20f567fa-11a4-49c3-a0a7-8e71f14ca413",
     "showTitle": false,
     "tableResultSettingsMap": {},
     "title": ""
    }
   },
   "source": [
    "## Part 1: Creating the Genie Space"
   ]
  },
  {
   "cell_type": "markdown",
   "metadata": {
    "application/vnd.databricks.v1+cell": {
     "cellMetadata": {},
     "inputWidgets": {},
     "nuid": "40aa670d-b384-4805-b00b-810e531a1b62",
     "showTitle": false,
     "tableResultSettingsMap": {},
     "title": ""
    }
   },
   "source": [
    "### 1.1: Navigate to the side panel menu --> SQL --> Genie. Click \"New\" to create a new Genie Space.\n",
    "![](./Images/Create Genie Space.png)"
   ]
  },
  {
   "cell_type": "markdown",
   "metadata": {
    "application/vnd.databricks.v1+cell": {
     "cellMetadata": {},
     "inputWidgets": {},
     "nuid": "a7ca9603-eac3-4a45-96a4-2e718fa589c5",
     "showTitle": false,
     "tableResultSettingsMap": {},
     "title": ""
    }
   },
   "source": [
    "### 1.2: Create the Genie Space by configuring the following fields:\n",
    "* Title: [Your name] - Customer 360\n",
    "* Description: This Genie Space contains information on customer, orders, and predictions on churn. \n",
    "* Default Warehouse: Select any available Serverless SQL Warehouse\n",
    "* Tables: \n",
    "  * data_pioneers.c360.churn_orders\n",
    "  * data_pioneers.c360.churn_prediction\n",
    "  * data_pioneers.c360.churn_users\n",
    "* Sample Questions: We'll come back later and add more, but for now, feel free to add:\n",
    "> How many customers are predicted to churn?"
   ]
  },
  {
   "cell_type": "markdown",
   "metadata": {
    "application/vnd.databricks.v1+cell": {
     "cellMetadata": {},
     "inputWidgets": {},
     "nuid": "8491eb8f-18b4-496f-98c4-cf1dd639049c",
     "showTitle": false,
     "tableResultSettingsMap": {},
     "title": ""
    }
   },
   "source": [
    "\n",
    "### 1.3: Create a New Chat and start asking questions!\n",
    "*Duration: 5 minutes*\n",
    "\n",
    "At this point, Genie doesn't have much context on the datasets, in terms of semantics, definitions, calculations, etc. \n",
    "\n",
    "Let's play around with the Genie space for 5 minutes to get a baseline, and through the course of this workshop, we'll make Genie even smarter.\n",
    "\n",
    "![](./Images/Genie New Chat.png)"
   ]
  },
  {
   "cell_type": "markdown",
   "metadata": {
    "application/vnd.databricks.v1+cell": {
     "cellMetadata": {},
     "inputWidgets": {},
     "nuid": "641d4ae8-83d8-4631-b09b-27933064bba6",
     "showTitle": false,
     "tableResultSettingsMap": {},
     "title": ""
    }
   },
   "source": [
    "\n",
    "### 1.4: Add General Instructions\n",
    "\n",
    "In order to make Genie more intelligent, let's provide more context on important definitions and semantics of the data. One mechanism to do this is through the Genral Instructions tab.\n",
    "\n",
    "Try this one as a starting point:\n",
    "* A user's country should only be displayed to end users as the country's full name, not the code in the dataset. Use this mapping to link the code to the country full name.\n",
    "  * FR --> France\n",
    "  * SPAIN --> Spain\n",
    "  * USA --> United States\n",
    "\n",
    "#### Test it out! \n",
    "\n",
    "Let's ask a question and see how Genie can conceptualize the question based on the information we provided in the *General Instructions* configuration.\n",
    "\n",
    "> Question: How many users are from France? \n",
    "\n",
    "> Note: After making changes to the *Instructions* tab, create a New Chat to apply the changes.\n",
    "\n",
    "\n",
    "#### Other suggestions:\n",
    "\n",
    "* Do not display the raw age group data (e.g. 0, 1, 2, etc.), only present the values below (18-25, 26-30, etc.). Use this mapping to link the raw age group field to the age group.\n",
    "  * 0 --> 18-25\n",
    "  * 1 --> 26-30\n",
    "  * 2 --> 31-35\n",
    "  * 3 --> 36-40\n",
    "  * 4 --> 41-45\n",
    "  * 5 --> 46-50\n",
    "  * 6 --> 51-55\n",
    "  * 7 --> 56-60\n",
    "  * 8 --> 61-65\n",
    "  * 9 --> 65-70\n",
    "  * 10 --> 70+"
   ]
  },
  {
   "cell_type": "markdown",
   "metadata": {
    "application/vnd.databricks.v1+cell": {
     "cellMetadata": {},
     "inputWidgets": {},
     "nuid": "b372ce7c-bed7-445a-ab88-30da31f63d6f",
     "showTitle": false,
     "tableResultSettingsMap": {},
     "title": ""
    }
   },
   "source": [
    "### 1.5: Add Example SQL Queries\n",
    "\n",
    "In addition to the text-based instructions above, we can also provide example SQL queries to enrich AI/BI Genie's understanding of the dataset. Let's add a few example queries and see how AI/BI Genie can further improve.\n",
    "\n",
    "![](./Images/Genie Add Example Queries.png)\n",
    "\n",
    "\n",
    "Let's add the following query...\n",
    "```\n",
    "SELECT COUNT(DISTINCT user_id) as count_customers\n",
    "   , CASE churn_prediction\n",
    "      WHEN 1 THEN 'Predicted to Churn'\n",
    "      WHEN 0 THEN 'Predicted to Not Churn'\n",
    "    END AS churn_prediction\n",
    "FROM data_pioneers.c360.churn_prediction\n",
    "GROUP BY ALL;\n",
    "```\n",
    "\n",
    "... which answers the question:\n",
    "> How many customers are predicted to churn vs. not churn?\n",
    "\n",
    "\n",
    "##### Additional Queries:\n",
    "\n",
    "> Question: Which users are predicted to churn have the most historical orders?\n",
    "```\n",
    "WITH orders_by_user AS (\n",
    "SELECT SUM(amount) as sum_total_amount\n",
    "  , count(distinct order_id) as count_orders\n",
    "  , max(creation_date) as last_transaction_date\n",
    "  , user_id \n",
    "FROM churn_orders\n",
    "GROUP BY ALL\n",
    ")\n",
    "SELECT c.user_id\n",
    "  , o.sum_total_amount\n",
    "  , o.count_orders\n",
    "  , o.last_transaction_date\n",
    "  , c.churn_prediction\n",
    "FROM orders_by_user o\n",
    "LEFT JOIN churn_prediction c ON o.user_id = c.user_id\n",
    "WHERE churn_prediction = 1\n",
    "ORDER BY sum_total_amount DESC\n",
    "```"
   ]
  },
  {
   "cell_type": "markdown",
   "metadata": {
    "application/vnd.databricks.v1+cell": {
     "cellMetadata": {},
     "inputWidgets": {},
     "nuid": "8d985a3d-122c-458a-87ab-8a80af8ad8b2",
     "showTitle": false,
     "tableResultSettingsMap": {},
     "title": ""
    }
   },
   "source": [
    "\n",
    "### 1.6: Add a Trusted Asset\n",
    "\n",
    "Trusted assets are predefined functions and example queries meant to provide verified answers to questions that you anticipate from users. For certain datasets and calculations, it's important to provide users with the verification that the answer is 100% correct, and Trusted Assets provided the mechanism to do so.\n",
    "\n",
    "To create a Trusted Asset, we need to first write our code as a Table-Valued Function. See below:"
   ]
  },
  {
   "cell_type": "code",
   "execution_count": 0,
   "metadata": {
    "application/vnd.databricks.v1+cell": {
     "cellMetadata": {
      "byteLimit": 2048000,
      "implicitDf": true,
      "rowLimit": 10000
     },
     "inputWidgets": {},
     "nuid": "c3907863-7bfb-43fb-b2f6-a6f998bef120",
     "showTitle": false,
     "tableResultSettingsMap": {},
     "title": ""
    }
   },
   "outputs": [],
   "source": [
    "%sql\n",
    "USE CATALOG data_pioneers;\n",
    "USE SCHEMA c360;\n",
    "\n",
    "CREATE OR REPLACE FUNCTION revenue_items_sold_per_day() RETURNS TABLE\n",
    "    RETURN \n",
    "select sum(amount) as revenue_usd\n",
    "  , sum(item_count) as items_sold\n",
    "  , date(creation_date) as order_date\n",
    "from data_pioneers.c360.churn_orders\n",
    "group by all;"
   ]
  },
  {
   "cell_type": "markdown",
   "metadata": {
    "application/vnd.databricks.v1+cell": {
     "cellMetadata": {},
     "inputWidgets": {},
     "nuid": "87326740-e470-46c6-bc6c-3a3a32206210",
     "showTitle": false,
     "tableResultSettingsMap": {},
     "title": ""
    }
   },
   "source": [
    "On the Instructions page, navigate to the \"SQL Functions\" section in the bottom left. \n",
    "\n",
    "![](./Images/Genie Navigate to SQL Function.png)\n",
    "\n",
    "Add the function we just created as a Trusted Asset and click \"Save\".\n",
    "\n",
    "![](./Images/Genie Add SQL Function_2.png)\n",
    "\n",
    "Whenever a question about Revenue or Items Sold per day is asked, Genie will use this function to get the answer to the question. \n",
    "\n",
    "![](./Images/Genie Show Trusted Asset.png)"
   ]
  },
  {
   "cell_type": "markdown",
   "metadata": {
    "application/vnd.databricks.v1+cell": {
     "cellMetadata": {},
     "inputWidgets": {},
     "nuid": "329a6967-55e1-4ea0-a1a7-6be8e8eb6dd6",
     "showTitle": false,
     "tableResultSettingsMap": {},
     "title": ""
    }
   },
   "source": [
    "\n",
    "### 1.7: Provide Feedback and Monitor Results\n",
    "\n",
    "We've built a pretty good start for our Genie Space, and now it's time to get feedback from users! Genie will get some things right, and it will get some things wrong. At this stage, it's an iterative process to continually refine it to handle the edge cases and ensure accurate results. \n",
    "\n",
    "Upon answering each question, users should indicate their feedback with a Thumbs Up, Thumbs Down, or Requesting a Review from the Genie Space Admin.\n",
    "\n",
    "#### Thumbs Up!\n",
    "![](./Images/Genie Feedback Thumbs Up.png)\n",
    "\n",
    "#### Thumbs Down and Needs a Review\n",
    "![](./Images/Genie Feedback Request a Review.png)\n",
    "\n",
    "\n",
    "As the Genie Space administrator, we can view the History of all conversations and see the feedback that our users are providing. Depending on the feedback, we can make updates to the General Instructions, Example SQL Queries, and/or Trusted Assets to remediate the change. Now we've built a tight feeedback loop to get input from users, make changes, and have them try again.\n",
    "\n",
    "![](./Images/Genie Feedback History.png)"
   ]
  },
  {
   "cell_type": "markdown",
   "metadata": {
    "application/vnd.databricks.v1+cell": {
     "cellMetadata": {},
     "inputWidgets": {},
     "nuid": "d17232bd-f5c5-4a89-8242-a5d797935479",
     "showTitle": false,
     "tableResultSettingsMap": {},
     "title": ""
    }
   },
   "source": [
    "\n",
    "### 1.8: Benchmarks\n",
    "\n",
    "#### Create Benchmark\n",
    "Benchmarks help us ensure that our Genie Space is continually providing accurate results, even as we're making changes to our General Instructions, Example SQL Queries, and Trusted Assets. Think about them as a Unit Test for your Genie Space.\n",
    "\n",
    "Let's create a Benchmark to show how this works. Navigate to the \"Benchmarks\" menu on the side panel and click \"Add Benchmark\". Provide the following inputs:\n",
    "\n",
    "> Question: How many users are from France?\n",
    "\n",
    "> SQL Answer: \n",
    "```\n",
    "SELECT\n",
    "  COUNT(`user_id`) AS `user_count`\n",
    "FROM\n",
    "  `data_pioneers`.`c360`.`churn_users`\n",
    "WHERE\n",
    "  `country` = 'FR'\n",
    "```\n",
    "\n",
    "![](./Images/Genie Add Benchmark.png)\n",
    "\n",
    "If you recall the above, in our General Instructions section, we indicated that the \"FR\" code corresponds to users from France. By adding this question to our Benchmarks, we can ensure that this question is consistently being answered correctly, as we add changes to our Genie Space configuration.\n",
    "\n",
    "\n",
    "#### Run Benchmark\n",
    "\n",
    "Now, let's go ahead and run the Benchmark and see how it works. After clicking \"Run Benchmark\", Genie will answer the `Question` specified in the Benchmark and compare the results to the `SQL Answer`. If the data matches, we're good to go! If the data doesn't match, we should compare the Genie-generated SQL with the `SQL Answer` and understand how they differ.\n",
    "\n",
    "![](./Images/Genie Benchmark Results.png)\n",
    "\n",
    "In this case, we're good to go! \n",
    "\n",
    "Now, let's try making a change to the General Instructions, and see how the Benchmark will respond to the change. \n",
    "\n",
    "For the sake of example, let's change the mapping for countries to say that the code \"FR\" actually corresponds to \"Spain\" and the code \"SPAIN\" corresponds with \"France\". Of course, this is incorrect, but this represents the type of change that may inadvertently be made to the Genie Space's Instructions that can result in negative results that we would want to test for.\n",
    "\n",
    "Let's overwrite the General Instructions with the following:\n",
    "* A user's country should only be displayed to end users as the country's full name, not the code in the dataset. Use this mapping to link the code to the country full name.\n",
    "  * FR --> Spain\n",
    "  * SPAIN --> France\n",
    "  * USA --> United States\n",
    "\n",
    "After making the change, let's Run Benchmark again and see the results.\n",
    "\n",
    "![](./Images/Genie Benchmark Results Bad.png)\n",
    "\n",
    "As expected, this Benchmark did not pass, as we got a different answer due to the change in the Instructions. \n",
    "\n",
    "To summarize, Benchmarks can help us test our Genie Spaces to ensure answers are continually correct, in light of changes to the Genie Space configuration.\n",
    "\n",
    "Let's go ahead and revert the General Instructions to the correct mapping and move on to the next section."
   ]
  },
  {
   "cell_type": "markdown",
   "metadata": {
    "application/vnd.databricks.v1+cell": {
     "cellMetadata": {},
     "inputWidgets": {},
     "nuid": "390bdf0b-7869-49c3-9e92-88eed9aec54d",
     "showTitle": false,
     "tableResultSettingsMap": {},
     "title": ""
    }
   },
   "source": [
    "\n",
    "### 1.9: Add Genie to Dashboard\n",
    "\n",
    "Finally, Genie Spaces can either be accessed through the Genie UI, as we've showed during this workshop. Often times, the types of questions we would ask a Genie space are natural follow up questions we have after looking at data in a Dashboard. \n",
    "\n",
    "Using the Dashboard we build in the AI/BI Dashboards lab, let's attach this Genie space to the dashboard to provide a seamless experience!\n",
    "\n",
    "![](./Images/Genie Add to Dash.png)\n",
    "\n",
    "Once configured, we can ask questions of the Genie Space from the Dashboard UI!\n",
    "\n",
    "![](./Images/Genie Query in Dash.png)"
   ]
  },
  {
   "cell_type": "markdown",
   "metadata": {
    "application/vnd.databricks.v1+cell": {
     "cellMetadata": {},
     "inputWidgets": {},
     "nuid": "b0271db5-d2ca-457f-be7e-81153692cb2e",
     "showTitle": false,
     "tableResultSettingsMap": {},
     "title": ""
    }
   },
   "source": [
    "\n",
    "## Part 2: Best Practices and Recommendations\n",
    "\n",
    "### Start small\n",
    "  * Curating a Genie space is an iterative process. When creating a new space, start as small as possible, with minimal instructions and a limited set of questions to answer. Then, you can add as you iterate based on feedback and monitoring. This approach helps streamline creating and maintaining your space and allows you to curate it effectively in response to real user needs.\n",
    "\n",
    "  * Use the following guidelines to help create a small Genie space:\n",
    "\n",
    "    * Stay focused: Include only the tables necessary to answer the questions you want the space to handle. Aim for five or fewer tables. The more focused your selection, the better. Keeping your space narrowly focused on a small amount of data is ideal, so limit the number of columns in your included tables.\n",
    "    * Plan to iterate: Start with a minimal setup for your space, focusing on essential tables and basic instructions. Add more detailed guidance and examples as you refine the space over time, rather than aiming for perfection initially.\n",
    "    * Build on well-annotated tables: Genie uses Unity Catalog column names and descriptions to generate responses. Clear column names and descriptions help produce high-quality responses. Column descriptions should offer precise contextual information. Avoid ambiguous or unnecessary details. Inspect any AI-generated descriptions for accuracy and clarity, and only use them if they align with what you would manually provide.\n",
    "  \n",
    "### Have a domain expert define the space\n",
    "  * An effective space creator needs to understand the data and the insights that can be gleaned from it. Data analysts who are proficient in SQL typically have the knowledge and skills to curate the space.\n",
    "\n",
    "### Define the purpose of your space\n",
    "  * Identifying your space’s specific audience and purpose helps you decide which data, instructions, and test questions to use. A space should answer questions for a particular topic and audience, not general questions across various domains.\n",
    "\n",
    "### Test and adjust\n",
    "  * You should be your space’s first user. After you create a new space, start asking questions. Carefully examine the SQL generated in response to your questions. If Genie misinterprets the data, questions, or business jargon, you can intervene by editing the generated SQL or providing other specific instructions. Keep testing and editing until you’re getting reliable responses.\n",
    "\n",
    "  * After you’ve reviewed a question, you can add it as a benchmark question that you can use to systematically test and score your space for overall accuracy. You can use variations and different questions phrasings to test Genie’s responses. See Use benchmarks in a Genie space.\n",
    "\n",
    "  * See Troubleshooting for ideas on fixing erroneous responses.\n",
    "\n",
    "### Conduct user testing\n",
    "  * After verifying response quality through testing, recruit a business user to try the Genie space. Use the following guidelines to provide a smooth user journey and collect feedback for ongoing improvement:\n",
    "    * Set expectations that their job is to help to refine the room.\n",
    "    * Ask them to focus their testing on the specific topic and questions the space is designed to answer.\n",
    "    * If they receive an incorrect response, encourage users to add additional instructions and clarifications in the chat to refine the answer. When a correct response is provided, they should upvote the final query to minimize similar errors in future interactions.\n",
    "    * Tell users to upvote or downvote responses using the built-in feedback mechanism.\n",
    "    * Invite users to share additional feedback and unresolved questions directly with the space authors. Authors and editors can use feedback to refine instructions, examples, and trusted assets.\n",
    "  * Consider providing training materials or a written document with guidelines for testing the room and providing feedback. As business users test the space, you’ll see the questions they’ve asked on the History tab. Continue adding instructions to help Genie correctly interpret the questions and data to provide accurate answers. See Review history and feedback to learn more about how to monitor Genie spaces."
   ]
  }
 ],
 "metadata": {
  "application/vnd.databricks.v1+notebook": {
   "computePreferences": null,
   "dashboards": [],
   "environmentMetadata": {
    "base_environment": "",
    "environment_version": "2"
   },
   "language": "python",
   "notebookMetadata": {
    "mostRecentlyExecutedCommandWithImplicitDF": {
     "commandId": 304984031887597,
     "dataframes": [
      "_sqldf"
     ]
    },
    "pythonIndentUnit": 2
   },
   "notebookName": "0.3 Genie Lab",
   "widgets": {}
  },
  "language_info": {
   "name": "python"
  }
 },
 "nbformat": 4,
 "nbformat_minor": 0
}
