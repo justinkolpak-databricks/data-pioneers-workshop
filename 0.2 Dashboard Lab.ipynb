{
 "cells": [
  {
   "cell_type": "markdown",
   "metadata": {
    "application/vnd.databricks.v1+cell": {
     "cellMetadata": {
      "byteLimit": 2048000,
      "rowLimit": 10000
     },
     "inputWidgets": {},
     "nuid": "e649a0da-9eab-4f32-9aaa-fa8021c14b50",
     "showTitle": false,
     "tableResultSettingsMap": {},
     "title": ""
    }
   },
   "source": [
    "# Lab 2: Dashboard Lab\n",
    "In this lab, we will build an AI/BI Dashboard to view and understand metrics about customers that are potentially going to Churn!\n",
    "\n",
    "AI/BI Dashboards allows business users to create dashboards and visualizations from your data to enable data-driven decision-making for everyone. Users can generate detailed reports containing insights into performance, trends and key metrics to empower users to act on what their data tells them."
   ]
  },
  {
   "cell_type": "markdown",
   "metadata": {
    "application/vnd.databricks.v1+cell": {
     "cellMetadata": {
      "byteLimit": 2048000,
      "rowLimit": 10000
     },
     "inputWidgets": {},
     "nuid": "f84890ea-808e-4fcf-9f60-eb6b0f0c80b9",
     "showTitle": false,
     "tableResultSettingsMap": {},
     "title": ""
    }
   },
   "source": [
    "# What are we going to build\n",
    "We are going to build a Customer churn dashboard with preditictive KPIs that helps you understand the current state of risk and identify the customers that are potentially going to churn. Here's how the dashboard is going to look. \n",
    "\n",
    "![](./Images/aibi_dashboard/Dashboard Final.png)"
   ]
  },
  {
   "cell_type": "markdown",
   "metadata": {
    "application/vnd.databricks.v1+cell": {
     "cellMetadata": {
      "byteLimit": 2048000,
      "rowLimit": 10000
     },
     "inputWidgets": {},
     "nuid": "7e345a5d-3b94-43ec-9462-50adda152a41",
     "showTitle": false,
     "tableResultSettingsMap": {},
     "title": ""
    }
   },
   "source": [
    "# Features covered in this lab\n",
    "\n",
    "- Part 1: Add Dataset\n",
    "- Part 2: Design widgets with different visualizations\n",
    "- Part 3: Add Filter\n",
    "- Part 4: Publish and Embed Dashboards\n",
    "\n"
   ]
  },
  {
   "cell_type": "markdown",
   "metadata": {
    "application/vnd.databricks.v1+cell": {
     "cellMetadata": {
      "byteLimit": 2048000,
      "rowLimit": 10000
     },
     "inputWidgets": {},
     "nuid": "f411bfb5-0861-43c5-9581-b3f8156a8021",
     "showTitle": false,
     "tableResultSettingsMap": {},
     "title": ""
    }
   },
   "source": [
    "##Part 1: Add Datasets\n"
   ]
  },
  {
   "cell_type": "markdown",
   "metadata": {
    "application/vnd.databricks.v1+cell": {
     "cellMetadata": {
      "byteLimit": 2048000,
      "rowLimit": 10000
     },
     "inputWidgets": {},
     "nuid": "7a2d4800-9d9b-4ca3-ba19-639ad95a5ae7",
     "showTitle": false,
     "tableResultSettingsMap": {},
     "title": ""
    }
   },
   "source": [
    "### 1.1: Create Dashboard\n",
    "\n",
    "Navigate to the side panel menu --> SQL --> Dashboards. Click \"Create Dashboard\" to create a new Dashboard.\n",
    "\n",
    "![](./Images/aibi_dashboard/Create Dashboard.png)"
   ]
  },
  {
   "cell_type": "markdown",
   "metadata": {
    "application/vnd.databricks.v1+cell": {
     "cellMetadata": {
      "byteLimit": 2048000,
      "rowLimit": 10000
     },
     "inputWidgets": {},
     "nuid": "228f300b-5fcc-4578-997f-133d8a502d1f",
     "showTitle": false,
     "tableResultSettingsMap": {},
     "title": ""
    }
   },
   "source": [
    "### 1.2: Rename and to go Data tab\n",
    "\n",
    "Rename the Dashboard to \"{Unique prefix} Churn Prediction Dashboard\" and click on \"Data\" to add Datasets.\n",
    "\n",
    "![](./Images/aibi_dashboard/Dashboard Rename.png)"
   ]
  },
  {
   "cell_type": "markdown",
   "metadata": {
    "application/vnd.databricks.v1+cell": {
     "cellMetadata": {
      "byteLimit": 2048000,
      "rowLimit": 10000
     },
     "inputWidgets": {},
     "nuid": "d5107347-607b-4215-ae14-42bd037e7458",
     "showTitle": false,
     "tableResultSettingsMap": {},
     "title": ""
    }
   },
   "source": [
    "### 1.3: Click on \"Create from SQL\" to add the first dataset\n",
    "\n",
    "![](./Images/aibi_dashboard/Dashboard Add Dataset1.png)"
   ]
  },
  {
   "cell_type": "markdown",
   "metadata": {
    "application/vnd.databricks.v1+cell": {
     "cellMetadata": {
      "byteLimit": 2048000,
      "rowLimit": 10000
     },
     "inputWidgets": {},
     "nuid": "db294044-6565-48fe-8ec1-5514e9e35889",
     "showTitle": false,
     "tableResultSettingsMap": {},
     "title": ""
    }
   },
   "source": []
  },
  {
   "cell_type": "markdown",
   "metadata": {
    "application/vnd.databricks.v1+cell": {
     "cellMetadata": {
      "byteLimit": 2048000,
      "rowLimit": 10000
     },
     "inputWidgets": {},
     "nuid": "dc4277c8-ba3e-451a-b361-dce3da5e543a",
     "showTitle": false,
     "tableResultSettingsMap": {},
     "title": ""
    }
   },
   "source": [
    "### 1.4: Add dataset : Churn - Customer Breakdown - Universal\n",
    "\n",
    "\n",
    "| Dataset Name | SQL Query |\n",
    "| ----------- | ----------- |\n",
    "| Churn - Customer Breakdown - Universal | SELECT canal, country, count(*) as users_count FROM data_pioneers.c360.churn_features WHERE churn =1 and canal is not null GROUP BY canal, country |\n",
    "\n",
    "Steps:\n",
    "1. Rename the Dataset to \"Churn - Customer Breakdown - Universal\"\n",
    "2. Paste the respective SQL query\n",
    "3. Click on the Run button to execute the query\n",
    "\n",
    "![](./Images/aibi_dashboard/Dashboard Add Dataset1_1.png)"
   ]
  },
  {
   "cell_type": "markdown",
   "metadata": {
    "application/vnd.databricks.v1+cell": {
     "cellMetadata": {
      "byteLimit": 2048000,
      "rowLimit": 10000
     },
     "inputWidgets": {},
     "nuid": "417464bf-dc47-4361-a708-c02a2771935b",
     "showTitle": false,
     "tableResultSettingsMap": {},
     "title": ""
    }
   },
   "source": [
    "### 1.5: Add the rest of the datasets \n",
    "\n",
    "\n",
    "| Dataset Name | SQL Query |\n",
    "| ----------- | ----------- |\n",
    "| Churn - Total MRR - Universal | SELECT sum(amount)/10 as MRR , country FROM data_pioneers.c360.churn_orders o left join data_pioneers.c360.churn_users cu on o.user_id = cu.user_id WHERE (month(to_timestamp(o.creation_date, 'MM-dd-yyyy HH:mm:ss')) = (select max(month(to_timestamp(creation_date, 'MM-dd-yyyy HH:mm:ss'))) from data_pioneers.c360.churn_orders)) group by country; |\n",
    "| Churn - Predictions - Universal | SELECT cast(days_since_creation/30 as int) as days_since_creation, churn, country, count(*) as customers FROM data_pioneers.c360.churn_features GROUP BY days_since_creation, churn, country having days_since_creation < 1000 |\n",
    "\n"
   ]
  },
  {
   "cell_type": "markdown",
   "metadata": {
    "application/vnd.databricks.v1+cell": {
     "cellMetadata": {
      "byteLimit": 2048000,
      "rowLimit": 10000
     },
     "inputWidgets": {},
     "nuid": "ced19549-15d4-4584-904b-d2cf3a3aab24",
     "showTitle": false,
     "tableResultSettingsMap": {},
     "title": ""
    }
   },
   "source": [
    "##Part 2: Add Widgets to build the Dashboard\n",
    "\n",
    "Now that we have all the datasets defined, we can start building the dashboard by adding Widgets.\n"
   ]
  },
  {
   "cell_type": "markdown",
   "metadata": {
    "application/vnd.databricks.v1+cell": {
     "cellMetadata": {
      "byteLimit": 2048000,
      "rowLimit": 10000
     },
     "inputWidgets": {},
     "nuid": "060297fc-6af1-4a8e-9fa4-1155047b5c76",
     "showTitle": false,
     "tableResultSettingsMap": {},
     "title": ""
    }
   },
   "source": [
    "### 2.1: Add your first Widget!\n",
    "\n",
    "Click on the Canvas tab followed by the Widget icon from the bottom of the screen to add a new Widget to the Dashboard.\n",
    "\n",
    "![](./Images/aibi_dashboard/Dashboard Add Widget1.1.png)"
   ]
  },
  {
   "cell_type": "markdown",
   "metadata": {
    "application/vnd.databricks.v1+cell": {
     "cellMetadata": {
      "byteLimit": 2048000,
      "rowLimit": 10000
     },
     "inputWidgets": {},
     "nuid": "0cfc53c1-37f3-4752-9044-6dff2d9a969f",
     "showTitle": false,
     "tableResultSettingsMap": {},
     "title": ""
    }
   },
   "source": [
    "\n",
    "### 2.2: Add a Metric - \"Total MRR ($)\"\n",
    "\n",
    "In the Widget panel on the right hand side, select the following options as shown in the image below\n",
    "\n",
    "- **Title Checkbox** : Enabled\n",
    "- **Title Value** : Total MRR ($)\n",
    "- **Dataset** : Churn - Total MRR - Universal\n",
    "- **Visualization** : Counter \n",
    "- **Value** : MRR\n",
    "  - **Transform** : SUM\n",
    "- **Value Format** : Custom\n",
    "  - **Type** : $\n",
    "  - **Abbreviation** : None\n",
    "  - **Decimal Places** : Max, 0\n",
    "  - **Group Separator** : Checked\n",
    "\n",
    "\n",
    "![](./Images/aibi_dashboard/Dashboard Add Widget1.png)"
   ]
  },
  {
   "cell_type": "markdown",
   "metadata": {
    "application/vnd.databricks.v1+cell": {
     "cellMetadata": {
      "byteLimit": 2048000,
      "rowLimit": 10000
     },
     "inputWidgets": {},
     "nuid": "6f834466-b638-4a34-8a0d-417de34f632b",
     "showTitle": false,
     "tableResultSettingsMap": {},
     "title": ""
    }
   },
   "source": [
    "\n",
    "### 2.3: Add the Widget - \"Predicted as Churn - Customer Tenure\"\n",
    "\n",
    "Click on Widget button from the bottom to add a another Widget. In the Widget panel on the right hand side, select the following options as shown in the image below\n",
    "\n",
    "- **Title Checkbox** : Enabled\n",
    "- **Title Value** : Predicted as Churn - Customer Tenure\n",
    "- **Dataset** : Churn - Predictions - Universal\n",
    "- **Visualization** : Bar\n",
    "- **X axis** : days_since_creation\n",
    "  - **Scale Type** : Continuous\n",
    "  - **Transform** : None\n",
    "- **Y axis** : SUM(customers)\n",
    "- **Color** : churn\n",
    "  - **Scale Type** : Categorical\n",
    "  - **Transform** : None\n",
    "\n",
    "\n",
    "![](./Images/aibi_dashboard/Dashboard Add Widget2_1.png)"
   ]
  },
  {
   "cell_type": "markdown",
   "metadata": {
    "application/vnd.databricks.v1+cell": {
     "cellMetadata": {},
     "inputWidgets": {},
     "nuid": "32623539-e4b3-4d19-aeb3-1bf2af7e87d3",
     "showTitle": false,
     "tableResultSettingsMap": {},
     "title": ""
    }
   },
   "source": [
    "\n",
    "### 2.4: Change Colors\n",
    "\n",
    "Select the colors of the bars to match with your style and coloring scheme\n",
    "\n",
    "![](./Images/aibi_dashboard/Dashboard Add Widget2_2.png)"
   ]
  },
  {
   "cell_type": "markdown",
   "metadata": {
    "application/vnd.databricks.v1+cell": {
     "cellMetadata": {
      "byteLimit": 2048000,
      "rowLimit": 10000
     },
     "inputWidgets": {},
     "nuid": "032ad37e-f027-4b1a-bdc1-ee384590dd68",
     "showTitle": false,
     "tableResultSettingsMap": {},
     "title": ""
    }
   },
   "source": [
    "\n",
    "### 2.5: Add the Widget - \"At Risk Customers - Have Device Protection\"\n",
    "\n",
    "Click on Widget button from the bottom to add a another Widget. In the Widget panel on the right hand side, select the following options as shown in the image below\n",
    "\n",
    "- **Title Checkbox** : Enabled\n",
    "- **Title Value** : At Risk Customers - Have Device Protection\n",
    "- **Dataset** : Churn - Customer Breakdown - Universal\n",
    "- **Visualization** : Pie\n",
    "- **Angle** : SUM(users_count)\n",
    "- **Color** : canal\n",
    "- **Labels** : Enabled\n",
    "\n",
    "\n",
    "![](./Images/aibi_dashboard/Dashboard Add Widget3.png)"
   ]
  },
  {
   "cell_type": "markdown",
   "metadata": {
    "application/vnd.databricks.v1+cell": {
     "cellMetadata": {
      "byteLimit": 2048000,
      "rowLimit": 10000
     },
     "inputWidgets": {},
     "nuid": "a0168718-fdd0-48d8-ab0e-7f90059b119e",
     "showTitle": false,
     "tableResultSettingsMap": {},
     "title": ""
    }
   },
   "source": [
    "##Part 3: Add Filter\n"
   ]
  },
  {
   "cell_type": "markdown",
   "metadata": {
    "application/vnd.databricks.v1+cell": {
     "cellMetadata": {
      "byteLimit": 2048000,
      "rowLimit": 10000
     },
     "inputWidgets": {},
     "nuid": "cc97c2f9-5e53-415d-8572-008585aff8e3",
     "showTitle": false,
     "tableResultSettingsMap": {},
     "title": ""
    }
   },
   "source": [
    "### 3.1: Add Filter Widget\n",
    "\n",
    "Now we are ready to add the filter to the dashboard. Click on the Canvas tab at the top and click the Filter button at the bottom of the screen as shown in the image below and place the filter widget.\n",
    "\n",
    "![](./Images/aibi_dashboard/Dashboard Filter 1_0.png)"
   ]
  },
  {
   "cell_type": "markdown",
   "metadata": {
    "application/vnd.databricks.v1+cell": {
     "cellMetadata": {
      "byteLimit": 2048000,
      "rowLimit": 10000
     },
     "inputWidgets": {},
     "nuid": "aaa8bb66-d35b-49e0-85dd-b8ba91dfb2b7",
     "showTitle": false,
     "tableResultSettingsMap": {},
     "title": ""
    }
   },
   "source": [
    "\n",
    "### 3.2: Add Country attribute from Datasets\n",
    "\n",
    "Add the attribute - country from each of the datasets to associate it with the filter.\n",
    "\n",
    "- **Title** : Country Filter\n",
    "- **Filter** : Multiple values\n",
    "- **Field** : Churn - Country Filter -> country\n",
    "\n",
    "![](./Images/aibi_dashboard/Dashboard Filter 6_2.png)"
   ]
  },
  {
   "cell_type": "markdown",
   "metadata": {
    "application/vnd.databricks.v1+cell": {
     "cellMetadata": {
      "byteLimit": 2048000,
      "rowLimit": 10000
     },
     "inputWidgets": {},
     "nuid": "0fab057e-99f0-44c7-82e1-04f762836804",
     "showTitle": false,
     "tableResultSettingsMap": {},
     "title": ""
    }
   },
   "source": [
    "\n"
   ]
  },
  {
   "cell_type": "markdown",
   "metadata": {
    "application/vnd.databricks.v1+cell": {
     "cellMetadata": {
      "byteLimit": 2048000,
      "rowLimit": 10000
     },
     "inputWidgets": {},
     "nuid": "24be55dd-c9fc-40d1-8765-8e16f54e022b",
     "showTitle": false,
     "tableResultSettingsMap": {},
     "title": ""
    }
   },
   "source": [
    "##Part 4: Publish and Embed Dashboards\n"
   ]
  },
  {
   "cell_type": "markdown",
   "metadata": {
    "application/vnd.databricks.v1+cell": {
     "cellMetadata": {
      "byteLimit": 2048000,
      "rowLimit": 10000
     },
     "inputWidgets": {},
     "nuid": "64509573-8253-42a4-9e46-754179ffdb47",
     "showTitle": false,
     "tableResultSettingsMap": {},
     "title": ""
    }
   },
   "source": [
    "\n",
    "### 4.1 Publish Dashboard\n",
    "\n",
    "Click on the Publish button as shown below.\n",
    "\n",
    "\n",
    "![](./Images/aibi_dashboard/Dashboard Publish 1_1.png)"
   ]
  },
  {
   "cell_type": "markdown",
   "metadata": {
    "application/vnd.databricks.v1+cell": {
     "cellMetadata": {
      "byteLimit": 2048000,
      "rowLimit": 10000
     },
     "inputWidgets": {},
     "nuid": "11631d36-1f22-4329-bbb3-5e1ec99bbe24",
     "showTitle": false,
     "tableResultSettingsMap": {},
     "title": ""
    }
   },
   "source": [
    "\n",
    "### 4.2 Publish Dashboard\n",
    "\n",
    "Review the information and click on the Publish button as shown below.\n",
    "\n",
    "\n",
    "![](./Images/aibi_dashboard/Dashboard Publish 2.png)"
   ]
  },
  {
   "cell_type": "markdown",
   "metadata": {
    "application/vnd.databricks.v1+cell": {
     "cellMetadata": {},
     "inputWidgets": {},
     "nuid": "57e98bd0-bc6c-4597-855d-a7062de06654",
     "showTitle": false,
     "tableResultSettingsMap": {},
     "title": ""
    }
   },
   "source": [
    "### 4.2 Scheduling Dashboard\n",
    "Now that we have our dashboard published. Let's schedule it so it refreshes at set periods. Click Schedule and create a schedule to happen every 5 minutes.\n",
    "\n",
    "![](./Images/aibi_dashboard/Dashboard Schedule 1_0.png)\n"
   ]
  },
  {
   "cell_type": "markdown",
   "metadata": {
    "application/vnd.databricks.v1+cell": {
     "cellMetadata": {},
     "inputWidgets": {},
     "nuid": "739cbfa4-86b4-413f-9fdd-26b81b723c2e",
     "showTitle": false,
     "tableResultSettingsMap": {},
     "title": ""
    }
   },
   "source": [
    "### 4.3 Subscribe to the Schedule for Snapshots\n",
    "Click Schedule, you should now see the schedule you just created. Click Subscribe. This will send a snapshot of the dashboard as a pdf to your email, or any email subscribed to the dashboard schedule. \n",
    "\n",
    "![](./Images/aibi_dashboard/Dashboard Schedule 1_1.png)"
   ]
  },
  {
   "cell_type": "markdown",
   "metadata": {
    "application/vnd.databricks.v1+cell": {
     "cellMetadata": {},
     "inputWidgets": {},
     "nuid": "46dfea87-bc8a-48d8-ac6a-8372fde58022",
     "showTitle": false,
     "tableResultSettingsMap": {},
     "title": ""
    }
   },
   "source": [
    "If you would like to add subscribes that are not yourself, first click edit on the schedule. In the edit screen, there will be a tab labeled **Subscribers** which will allow you to enter other users."
   ]
  },
  {
   "cell_type": "markdown",
   "metadata": {
    "application/vnd.databricks.v1+cell": {
     "cellMetadata": {},
     "inputWidgets": {},
     "nuid": "c854cdbb-1bf7-4722-b44f-1dde6dbf8a66",
     "showTitle": false,
     "tableResultSettingsMap": {},
     "title": ""
    }
   },
   "source": [
    "### 4.4 Check your email for Snapshots\n",
    "\n",
    "If the schedule has been tirggered. You should have recieved an email with a snapshot of the dashboard. Attached to this email is a pdf version that makes for easier viewing."
   ]
  },
  {
   "cell_type": "markdown",
   "metadata": {
    "application/vnd.databricks.v1+cell": {
     "cellMetadata": {},
     "inputWidgets": {},
     "nuid": "6741b988-77d0-47e3-9126-38d840618c52",
     "showTitle": false,
     "tableResultSettingsMap": {},
     "title": ""
    }
   },
   "source": [
    "![](./Images/aibi_dashboard/Dashboard Schedule 1_2.png)"
   ]
  },
  {
   "cell_type": "markdown",
   "metadata": {
    "application/vnd.databricks.v1+cell": {
     "cellMetadata": {},
     "inputWidgets": {},
     "nuid": "3e88f775-0a69-4e02-8798-addad833cb04",
     "showTitle": false,
     "tableResultSettingsMap": {},
     "title": ""
    }
   },
   "source": [
    "### 4.5 Delete the Schedule\n",
    "We will delete the schedule to avoid running uncessary compute and stop the incoming emails. Click Schedule -> Kebab Icon on the Schedule -> Delete to delte the recurring schedule and emails.\n",
    "\n",
    "![](./Images/aibi_dashboard/Dashboard Schedule 1_3.png)"
   ]
  },
  {
   "cell_type": "markdown",
   "metadata": {
    "application/vnd.databricks.v1+cell": {
     "cellMetadata": {
      "byteLimit": 2048000,
      "rowLimit": 10000
     },
     "inputWidgets": {},
     "nuid": "a14001c2-ed5b-4b46-8141-7454e049be1e",
     "showTitle": false,
     "tableResultSettingsMap": {},
     "title": ""
    }
   },
   "source": [
    "##Conclusion\n",
    "\n",
    "We saw how we can use Databricks AIBI to quickly create a Dashboard on our freshest data and enable data-driven decision-making for everyone. If you would like, feel free to continue this lab. The next session will fully build out the remainder of this dashboard. Lastly, it will walk you through how you can  embed it."
   ]
  },
  {
   "cell_type": "markdown",
   "metadata": {
    "application/vnd.databricks.v1+cell": {
     "cellMetadata": {},
     "inputWidgets": {},
     "nuid": "bea75351-5475-4ccf-9b07-6de2f1ba8213",
     "showTitle": false,
     "tableResultSettingsMap": {},
     "title": ""
    }
   },
   "source": [
    "\n",
    "## Part 5 : Extended Version\n",
    "\n"
   ]
  },
  {
   "cell_type": "markdown",
   "metadata": {
    "application/vnd.databricks.v1+cell": {
     "cellMetadata": {
      "byteLimit": 2048000,
      "rowLimit": 10000
     },
     "inputWidgets": {},
     "nuid": "b10dda7b-8b9e-498d-b541-2eda32796a51",
     "showTitle": false,
     "tableResultSettingsMap": {},
     "title": ""
    }
   },
   "source": [
    "### 5.1: Add the following datasets \n",
    "\n",
    "Steps:\n",
    "\n",
    "1. Rename the Dataset to \"Churn - Customer Breakdown - Universal\"\n",
    "2. Paste the respective SQL query\n",
    "3. Click on the settings button\n",
    "4. Check the checkbox \"Allow multiple selections\"\n",
    "5. Enter values in the country filter : USA, FR, SPAIN\n",
    "6. Execute the SQL\n",
    "\n",
    "| Dataset Name | SQL Query |\n",
    "| ----------- | ----------- |\n",
    "| Churn - Monthly Revenue Risk - Universal | SELECT sum(amount)/100, country FROM data_pioneers.c360.churn_orders o left join data_pioneers.c360.churn_users cu on o.user_id = cu.user_id WHERE month(to_timestamp(o.creation_date, 'MM-dd-yyyy HH:mm:ss')) = (select max(month(to_timestamp(creation_date, 'MM-dd-yyyy HH:mm:ss'))) from data_pioneers.c360.churn_orders) and o.user_id in (SELECT user_id FROM data_pioneers.c360.churn_users WHERE churn=1) GROUP BY country; |\n",
    "| Churn - Subscriptions based on Internet Service | SELECT platform, churn, country, count(*) as event_count FROM data_pioneers.c360.churn_app_events INNER JOIN data_pioneers.c360.churn_users USING (user_id) WHERE platform IS NOT NULL GROUP BY platform, churn, country; |\n",
    "| Churn - Predicted Churn Percent Payment Method - Universal | SELECT p.country, p.churn, count(*) as customers FROM data_pioneers.c360.churn_features p GROUP BY p.country, p.churn; |\n",
    "| Churn - At-Risk Customers - Universal | SELECT country, count(*)/12 as at_risk FROM data_pioneers.c360.churn_users WHERE churn=1 GROUP BY country;|\n",
    "| Churn - Predicted to Churn - Universal | SELECT user_id, churn, country from data_pioneers.c360.churn_users where churn=1;|"
   ]
  },
  {
   "cell_type": "markdown",
   "metadata": {
    "application/vnd.databricks.v1+cell": {
     "cellMetadata": {
      "byteLimit": 2048000,
      "rowLimit": 10000
     },
     "inputWidgets": {},
     "nuid": "01e932a1-8c1a-49f9-afdb-b11af4552778",
     "showTitle": false,
     "tableResultSettingsMap": {},
     "title": ""
    }
   },
   "source": [
    "\n",
    "### 5.2: Add the Widget - \"Predicted Churn - Monthly Revenue Risk ($)\"\n",
    "\n",
    "Click on Widget button from the bottom to add a another Widget. In the Widget panel on the right hand side, select the following options as shown in the image below\n",
    "\n",
    "- **Title Checkbox** : Enabled\n",
    "- **Title Value** : Predicted Churn - Monthly Revenue Risk ($)\n",
    "- **Dataset** : Churn - Monthly Revenue Risk - Universal\n",
    "- **Visualization** : Counter \n",
    "- **Value** : MRR_at_risk\n",
    "  - **Transform** : SUM\n",
    "  - **Format** : Custom\n",
    "    - **Type** : $\n",
    "\n",
    "\n",
    "![](./Images/aibi_dashboard/Dashboard Add Widget2_0.png)"
   ]
  },
  {
   "cell_type": "markdown",
   "metadata": {
    "application/vnd.databricks.v1+cell": {
     "cellMetadata": {
      "byteLimit": 2048000,
      "rowLimit": 10000
     },
     "inputWidgets": {},
     "nuid": "16fa3f2a-3f62-494b-aa24-b42bd8f90fd1",
     "showTitle": false,
     "tableResultSettingsMap": {},
     "title": ""
    }
   },
   "source": [
    "\n",
    "### 5.3: Add the Widget - \"At-Risk Customers\"\n",
    "\n",
    "Click on Widget button from the bottom to add a another Widget. In the Widget panel on the right hand side, select the following options as shown in the image below\n",
    "\n",
    "- **Title Checkbox** : Enabled\n",
    "- **Title Value** : At-Risk Customers\n",
    "- **Dataset** : Churn - At-Risk Customers - Universal\n",
    "- **Visualization** : Counter \n",
    "- **Value** : at_risk\n",
    "  - **Transform** : SUM\n",
    "\n",
    "\n",
    "![](./Images/aibi_dashboard/Dashboard Add Widet3_0.png)"
   ]
  },
  {
   "cell_type": "markdown",
   "metadata": {
    "application/vnd.databricks.v1+cell": {
     "cellMetadata": {
      "byteLimit": 2048000,
      "rowLimit": 10000
     },
     "inputWidgets": {},
     "nuid": "1be2ed99-fbd0-485c-93bd-22cca50012c6",
     "showTitle": false,
     "tableResultSettingsMap": {},
     "title": ""
    }
   },
   "source": [
    "\n",
    "### 5.4: Format the visualiztion\n",
    "\n",
    "Change the default formatting to remove decimals by clicking on the 'value' dropdown box and navigating to ‘Format’ tab as shown in the image below.\n",
    "\n",
    "\n",
    "\n",
    "![](./Images/aibi_dashboard/Dashboard Add Widet3.2.png)"
   ]
  },
  {
   "cell_type": "markdown",
   "metadata": {
    "application/vnd.databricks.v1+cell": {
     "cellMetadata": {
      "byteLimit": 2048000,
      "rowLimit": 10000
     },
     "inputWidgets": {},
     "nuid": "c709fa5f-6335-4fcb-8ac5-02a49ac072ab",
     "showTitle": false,
     "tableResultSettingsMap": {},
     "title": ""
    }
   },
   "source": [
    "\n",
    "### 5.5: Add the Widget - \"Percent Predicted Churn - Payment Method\"\n",
    "\n",
    "Click on Widget button from the bottom to add a another Widget. In the Widget panel on the right hand side, select the following options as shown in the image below\n",
    "\n",
    "- **Title Checkbox** : Enabled\n",
    "- **Title Value** : Percent Predicted Churn - Payment Method\n",
    "- **Dataset** : Churn - Predicted Churn Percent Payment Method - Universal\n",
    "- **Visualization** : Bar\n",
    "- **X axis** : churn\n",
    "  - **Scale Type** : Categorical\n",
    "- **Y axis** : customers\n",
    "  - **Transform** : SUM\n",
    "- **Color** : country\n",
    "\n",
    "\n",
    "![](./Images/aibi_dashboard/Dashboard Add Widet6_0.png)"
   ]
  },
  {
   "cell_type": "markdown",
   "metadata": {
    "application/vnd.databricks.v1+cell": {
     "cellMetadata": {
      "byteLimit": 2048000,
      "rowLimit": 10000
     },
     "inputWidgets": {},
     "nuid": "20f5f686-c475-4f08-9dcb-fd421091d45e",
     "showTitle": false,
     "tableResultSettingsMap": {},
     "title": ""
    }
   },
   "source": [
    "\n",
    "### 5.6: Add the Widget - \"Customers Predicted to Churn\"\n",
    "\n",
    "Click on Widget button from the bottom to add a another Widget. In the Widget panel on the right hand side, select the following options as shown in the image below\n",
    "\n",
    "- **Title Checkbox** : Enabled\n",
    "- **Title Value** : Customers Predicted to Churn\n",
    "- **Dataset** : Churn - Predicted to Churn - Universal\n",
    "- **Visualization** : Table\n",
    "- **Columns** : Show/hide all\n",
    "\n",
    "![](./Images/aibi_dashboard/Dashboard Add Widet7.png)"
   ]
  },
  {
   "cell_type": "markdown",
   "metadata": {
    "application/vnd.databricks.v1+cell": {
     "cellMetadata": {
      "byteLimit": 2048000,
      "rowLimit": 10000
     },
     "inputWidgets": {},
     "nuid": "fc9594fa-996b-4b24-b4e7-2bd8a617b902",
     "showTitle": false,
     "tableResultSettingsMap": {},
     "title": ""
    }
   },
   "source": [
    "\n",
    "### 5.7: Add the Widget - \"Churn - Subscriptions based on Internet Service\"\n",
    "\n",
    "Click on Widget button from the bottom to add a another Widget. In the Widget panel on the right hand side, select the following options as shown in the image below\n",
    "\n",
    "- **Title Checkbox** : Enabled\n",
    "- **Title Value** : Churn - Subscriptions based on Internet Service\n",
    "- **Dataset** : Churn - Predicted to Churn - Universal\n",
    "- **Visualization** : Bar\n",
    "- **X axis** : SUM(event_count)\n",
    "- **Y axis** : platform\n",
    "- **Color** : churn\n",
    "  - **Scale Type** : Categorical\n",
    "  - **Transform** : None\n",
    "\n",
    "\n",
    "![](./Images/aibi_dashboard/Dashboard Add Widet8.png)"
   ]
  },
  {
   "cell_type": "markdown",
   "metadata": {
    "application/vnd.databricks.v1+cell": {
     "cellMetadata": {},
     "inputWidgets": {},
     "nuid": "378f97fe-ecfe-4325-a306-02512945ba4d",
     "showTitle": false,
     "tableResultSettingsMap": {},
     "title": ""
    }
   },
   "source": [
    "\n",
    "### 5.8: Add Country to Filter\n",
    "Go to the Country Filter and add the attribute - Country from the newly added datasets\n",
    "\n",
    "![](./Images/aibi_dashboard/Dashboard Filter 6_3.png)"
   ]
  },
  {
   "cell_type": "markdown",
   "metadata": {
    "application/vnd.databricks.v1+cell": {
     "cellMetadata": {},
     "inputWidgets": {},
     "nuid": "94743c88-dafb-45c2-b3e0-227c119f8128",
     "showTitle": false,
     "tableResultSettingsMap": {},
     "title": ""
    }
   },
   "source": [
    "## Part 6 : Embedding the Dashboard"
   ]
  },
  {
   "cell_type": "markdown",
   "metadata": {
    "application/vnd.databricks.v1+cell": {
     "cellMetadata": {
      "byteLimit": 2048000,
      "rowLimit": 10000
     },
     "inputWidgets": {},
     "nuid": "3789fb42-3d4d-4c3a-8879-1da3a4e73690",
     "showTitle": false,
     "tableResultSettingsMap": {},
     "title": ""
    }
   },
   "source": [
    "\n",
    "### 6.1 Create Embedding\n",
    "\n",
    "Click on the Share button to generate embedding iframe that can be used to embed the dashboard in applications\n",
    "\n",
    "\n",
    "![](./Images/aibi_dashboard/Dashboard Embed 1_1.png)"
   ]
  },
  {
   "cell_type": "markdown",
   "metadata": {
    "application/vnd.databricks.v1+cell": {
     "cellMetadata": {
      "byteLimit": 2048000,
      "rowLimit": 10000
     },
     "inputWidgets": {},
     "nuid": "1bea4b8f-0a60-4c0e-86ff-c429f7fad878",
     "showTitle": false,
     "tableResultSettingsMap": {},
     "title": ""
    }
   },
   "source": [
    "\n",
    "### 6.2 Create Embedding\n",
    "\n",
    "Click on Embed Dashboard button to generate the iframe url as shown below.\n",
    "\n",
    "\n",
    "![](./Images/aibi_dashboard/Dashboard Embed 2.png)"
   ]
  },
  {
   "cell_type": "markdown",
   "metadata": {
    "application/vnd.databricks.v1+cell": {
     "cellMetadata": {
      "byteLimit": 2048000,
      "rowLimit": 10000
     },
     "inputWidgets": {},
     "nuid": "45a52a7e-0950-4d56-a746-1656be97d2b6",
     "showTitle": false,
     "tableResultSettingsMap": {},
     "title": ""
    }
   },
   "source": [
    "\n",
    "### 6.3 Create Embedding\n",
    "\n",
    "The generated URL can now be used to embed the dashboard in applications.\n",
    "\n",
    "\n",
    "![](./Images/aibi_dashboard/Dashboard Embed 3.png)"
   ]
  }
 ],
 "metadata": {
  "application/vnd.databricks.v1+notebook": {
   "computePreferences": null,
   "dashboards": [],
   "environmentMetadata": null,
   "inputWidgetPreferences": null,
   "language": "python",
   "notebookMetadata": {
    "mostRecentlyExecutedCommandWithImplicitDF": {
     "commandId": 990384398374379,
     "dataframes": [
      "_sqldf"
     ]
    },
    "pythonIndentUnit": 2
   },
   "notebookName": "0.2 Dashboard Lab",
   "widgets": {}
  },
  "language_info": {
   "name": "python"
  }
 },
 "nbformat": 4,
 "nbformat_minor": 0
}
