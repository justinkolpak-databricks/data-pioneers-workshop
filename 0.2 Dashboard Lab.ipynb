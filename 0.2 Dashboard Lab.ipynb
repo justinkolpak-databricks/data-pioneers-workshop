{
 "cells": [
  {
   "cell_type": "markdown",
   "metadata": {
    "application/vnd.databricks.v1+cell": {
     "cellMetadata": {},
     "inputWidgets": {},
     "nuid": "c4a82c66-daf0-4df2-86b5-b8dc3bb0e784",
     "showTitle": false,
     "tableResultSettingsMap": {},
     "title": ""
    }
   },
   "source": [
    "# Lab 2: Dashboard Lab\n",
    "In this lab, we will build an AI/BI Dashboard to view and understand metrics about customers that are potentially going to Churn!\n",
    "\n",
    "AI/BI Dashboards allows business users to create dashboards and visualizations from your data to enable data-driven decision-making for everyone. Users can generate detailed reports containing insights into performance, trends and key metrics to empower users to act on what their data tells them."
   ]
  },
  {
   "cell_type": "markdown",
   "metadata": {
    "application/vnd.databricks.v1+cell": {
     "cellMetadata": {},
     "inputWidgets": {},
     "nuid": "3b6ade30-6397-4ac3-a3fa-f70eac000042",
     "showTitle": false,
     "tableResultSettingsMap": {},
     "title": ""
    }
   },
   "source": [
    "##Part 1: Add Datasets\n"
   ]
  },
  {
   "cell_type": "markdown",
   "metadata": {
    "application/vnd.databricks.v1+cell": {
     "cellMetadata": {},
     "inputWidgets": {},
     "nuid": "24704a41-d167-4d74-a24b-f41e889be459",
     "showTitle": false,
     "tableResultSettingsMap": {},
     "title": ""
    }
   },
   "source": [
    "### 1.1: Navigate to the side panel menu --> SQL --> Dashboards. Click \"Create Dashboard\" to create a new Dashboard.\n",
    "\n",
    "![](./Images/Create Dashboard.png)"
   ]
  },
  {
   "cell_type": "markdown",
   "metadata": {
    "application/vnd.databricks.v1+cell": {
     "cellMetadata": {},
     "inputWidgets": {},
     "nuid": "cd764ce9-570b-4468-b5c7-b30661fea101",
     "showTitle": false,
     "tableResultSettingsMap": {},
     "title": ""
    }
   },
   "source": [
    "### 1.2: Update the name of the Dashboard to \"Churn Prediction Dashboard\" and click on \"Data\" to add Datasets.\n",
    "\n",
    "![](./Images/Dashboard Rename.png)"
   ]
  },
  {
   "cell_type": "markdown",
   "metadata": {
    "application/vnd.databricks.v1+cell": {
     "cellMetadata": {},
     "inputWidgets": {},
     "nuid": "8fd27c9f-9709-4d59-8db9-7fb1ce107399",
     "showTitle": false,
     "tableResultSettingsMap": {},
     "title": ""
    }
   },
   "source": [
    "### 1.3: Click on \"Create from SQL\" to add the first dataset\n",
    "\n",
    "![](./Images/Dashboard Add Dataset1.png)"
   ]
  },
  {
   "cell_type": "markdown",
   "metadata": {
    "application/vnd.databricks.v1+cell": {
     "cellMetadata": {},
     "inputWidgets": {},
     "nuid": "cbf18d16-e4da-444f-8883-0ad84ded6c2d",
     "showTitle": false,
     "tableResultSettingsMap": {},
     "title": ""
    }
   },
   "source": [
    "##Part 2: Add Widgets to build the Dashboard.\n"
   ]
  },
  {
   "cell_type": "markdown",
   "metadata": {
    "application/vnd.databricks.v1+cell": {
     "cellMetadata": {},
     "inputWidgets": {},
     "nuid": "0f74fff6-de9c-4853-86a9-0b0b302d9864",
     "showTitle": false,
     "tableResultSettingsMap": {},
     "title": ""
    }
   },
   "source": [
    "### 2.1: Add your first Widget!\n",
    "\n",
    "Click on the Canvas tab followed by the Widget icon from the bottom of the screen to add a new Widget to the Dashboard.\n",
    "\n",
    "![](./Images/Dashboard Add Widget1.1.png)"
   ]
  },
  {
   "cell_type": "markdown",
   "metadata": {
    "application/vnd.databricks.v1+cell": {
     "cellMetadata": {},
     "inputWidgets": {},
     "nuid": "380360d9-00d5-4c3a-aad8-f2ca298f3b20",
     "showTitle": false,
     "tableResultSettingsMap": {},
     "title": ""
    }
   },
   "source": [
    "\n",
    "### 2.2: Add Metric and configre Visualization Type\n",
    "\n",
    "Rename the Wiget to “Total MRR ($)”. In the Widget panel on the right hand side, select the following options as shown in the image below\n",
    "\n",
    "- **Dataset** : Churn - Total MRR - Universal\n",
    "- **Visualization** : Counter \n",
    "- **Value** : MRR\n",
    "\n",
    "\n",
    "![](./Images/Dashboard Add Widget1.2.png)"
   ]
  },
  {
   "cell_type": "markdown",
   "metadata": {
    "application/vnd.databricks.v1+cell": {
     "cellMetadata": {},
     "inputWidgets": {},
     "nuid": "1f9cddc9-3cb9-457c-b549-b759fd44b049",
     "showTitle": false,
     "tableResultSettingsMap": {},
     "title": ""
    }
   },
   "source": [
    "\n",
    "### 2.3: Add another Widget and configre Metrics, Visualization Type\n",
    "\n",
    "Click on Widget button from the bottom to add a another Widget. Rename the Wiget to “Total MRR ($)”. In the Widget panel on the right hand side, select the following options as shown in the image below\n",
    "\n",
    "- **Dataset** : Churn - Total MRR - Universal\n",
    "- **Visualization** : Counter \n",
    "- **Value** : MRR\n",
    "\n",
    "\n",
    "![](./Images/Dashboard Add Widget2.png)"
   ]
  },
  {
   "cell_type": "markdown",
   "metadata": {
    "application/vnd.databricks.v1+cell": {
     "cellMetadata": {},
     "inputWidgets": {},
     "nuid": "37fc007a-8750-40d2-bba5-a3817ca9af82",
     "showTitle": false,
     "tableResultSettingsMap": {},
     "title": ""
    }
   },
   "source": [
    "##Part 3: Add Parameters and Filter\n"
   ]
  },
  {
   "cell_type": "markdown",
   "metadata": {
    "application/vnd.databricks.v1+cell": {
     "cellMetadata": {},
     "inputWidgets": {},
     "nuid": "76604e4d-1d37-4869-8ffa-680042913112",
     "showTitle": false,
     "tableResultSettingsMap": {},
     "title": ""
    }
   },
   "source": [
    "%md\n",
    "Your output should looklike this\n",
    "\n",
    "SCREENSHOT"
   ]
  },
  {
   "cell_type": "markdown",
   "metadata": {
    "application/vnd.databricks.v1+cell": {
     "cellMetadata": {},
     "inputWidgets": {},
     "nuid": "033d4bfa-63f8-4004-bbe6-930be4b49c53",
     "showTitle": false,
     "tableResultSettingsMap": {},
     "title": ""
    }
   },
   "source": [
    "##LAB Section"
   ]
  },
  {
   "cell_type": "markdown",
   "metadata": {
    "application/vnd.databricks.v1+cell": {
     "cellMetadata": {},
     "inputWidgets": {},
     "nuid": "77ff5cf9-3425-4503-af29-dc0e6da6a05c",
     "showTitle": false,
     "tableResultSettingsMap": {},
     "title": ""
    }
   },
   "source": [
    "blah"
   ]
  },
  {
   "cell_type": "markdown",
   "metadata": {
    "application/vnd.databricks.v1+cell": {
     "cellMetadata": {},
     "inputWidgets": {},
     "nuid": "03c884fb-ffb9-4735-8e1b-2133c13c6b14",
     "showTitle": false,
     "tableResultSettingsMap": {},
     "title": ""
    }
   },
   "source": [
    "##Lab Section"
   ]
  }
 ],
 "metadata": {
  "application/vnd.databricks.v1+notebook": {
   "computePreferences": null,
   "dashboards": [],
   "environmentMetadata": {
    "base_environment": "",
    "environment_version": "2"
   },
   "language": "python",
   "notebookMetadata": {
    "pythonIndentUnit": 2
   },
   "notebookName": "0.2 Dashboard Lab",
   "widgets": {}
  },
  "language_info": {
   "name": "python"
  }
 },
 "nbformat": 4,
 "nbformat_minor": 0
}
