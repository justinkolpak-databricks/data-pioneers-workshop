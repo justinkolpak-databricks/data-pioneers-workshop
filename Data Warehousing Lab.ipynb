{
 "cells": [
  {
   "cell_type": "markdown",
   "metadata": {
    "application/vnd.databricks.v1+cell": {
     "cellMetadata": {},
     "inputWidgets": {},
     "nuid": "05dcf15f-0949-4d5c-851d-2cd5edb812a3",
     "showTitle": false,
     "tableResultSettingsMap": {},
     "title": ""
    }
   },
   "source": [
    "\n",
    "# AI / BI On Databricks: Your AI-powered Lakehouse is the best Warehouse\n",
    "\n",
    "Traditional Data Warehouses can’t keep up with the variety of data and use cases. Business agility requires reliable, real-time data, with insight from ML models.\n",
    "\n",
    "Working with the lakehouse unlock traditional BI analysis but also real time applications having a direct connection to your entire data, while remaining fully secured.\n",
    "\n",
    "With AI assistant infused in all the BI stack, Databricks makes it easy to analysts and business users to extract insight from their data.  \n",
    "<br>\n",
    "\n",
    "<img src=\"https://github.com/databricks-demos/dbdemos-resources/raw/main/images/dbsql.png\" width=\"700px\" style=\"float: left\" />\n",
    "\n",
    "<div style=\"float: left; margin-top: 240px; font-size: 23px\">\n",
    "  Instant, elastic compute<br>\n",
    "  Lower TCO with Serveless<br>\n",
    "  Zero management<br><br>\n",
    "\n",
    "  Governance layer - row level<br><br>\n",
    "\n",
    "  Your data. Your schema (star, data vault…)\n",
    "</div>\n",
    "\n",
    "<!-- Collect usage data (view). Remove it to disable collection or disable tracker during installation. View README for more details.  -->\n",
    "<img width=\"1px\" src=\"https://ppxrzfxige.execute-api.us-west-2.amazonaws.com/v1/analytics?category=lakehouse&org_id=1444828305810485&notebook=%2F03-AI-BI-data-warehousing%2F03.1-AI-BI-Datawarehousing&demo_name=lakehouse-retail-c360&event=VIEW&path=%2F_dbdemos%2Flakehouse%2Flakehouse-retail-c360%2F03-AI-BI-data-warehousing%2F03.1-AI-BI-Datawarehousing&version=1\">"
   ]
  },
  {
   "cell_type": "markdown",
   "metadata": {
    "application/vnd.databricks.v1+cell": {
     "cellMetadata": {},
     "inputWidgets": {},
     "nuid": "d2b92bc1-d71e-4ce0-92fc-c63270a80acf",
     "showTitle": false,
     "tableResultSettingsMap": {},
     "title": ""
    }
   },
   "source": [
    "# BI & Datawarehousing with Databricks SQL\n",
    "\n",
    "<img style=\"float: right; margin-top: 10px\" width=\"500px\" src=\"https://github.com/databricks-demos/dbdemos-resources/raw/main/images/retail/lakehouse-churn/lakehouse-retail-c360-churn-3.png\" />\n",
    "\n",
    "Our datasets are now properly ingested, secured, with a high quality and easily discoverable within our organization.\n",
    "\n",
    "Let's explore how Databricks SQL support your Data Analyst team with interactive BI and start analyzing our customer Churn.\n",
    "\n",
    "To start with Databricks SQL, open the SQL view on the top left menu.\n",
    "\n",
    "You'll be able to:\n",
    "\n",
    "- Create a SQL Warehouse to run your queries\n",
    "- Use DBSQL to build your own dashboards\n",
    "- Plug any BI tools (Tableau/PowerBI/..) to run your analysis"
   ]
  },
  {
   "cell_type": "markdown",
   "metadata": {
    "application/vnd.databricks.v1+cell": {
     "cellMetadata": {},
     "inputWidgets": {},
     "nuid": "3b0cae41-62c7-4128-9789-f84e79737872",
     "showTitle": false,
     "tableResultSettingsMap": {},
     "title": ""
    }
   },
   "source": [
    "Add a SQL Warehouse already created step and move the Creating a SQL warehouse below Advanced tip section. So does monitoring "
   ]
  },
  {
   "cell_type": "markdown",
   "metadata": {
    "application/vnd.databricks.v1+cell": {
     "cellMetadata": {},
     "inputWidgets": {},
     "nuid": "e1dfce8c-018e-4563-9ece-516375dc1a21",
     "showTitle": false,
     "tableResultSettingsMap": {},
     "title": ""
    }
   },
   "source": [
    "\n",
    "\n",
    "### Creating a SQL Warehouse \n",
    "\n",
    "<img style=\"float: right; margin-top: 20px\" width=\"600px\" src=\n",
    "\"./Images/Data_Warehouse/Create warehouse.png\">\n",
    "\n",
    "\n",
    "A SQL warehouse is a compute resource that lets you run SQL commands on data objects within Databricks SQL.\n",
    "\n",
    "- You can create a SQL Warehouse from the SQL Warehouse section under SQL from the left pane\n",
    "\n",
    "- For this workshop let's [Create a SQL Warehouse](/sql/warehouses) to execute workloads, such as data ingestion, queries, visualisations and dashboards\n",
    "- Click on Create SQL Warehouse\n",
    "- Choose a Name for your warehouse. Let’s call it data pioneer whs \n",
    "- Let's pick X-Small as the Cluster size\n",
    "- Set the Auto-Stop to 10 minutes. Databricks serverless offers fast start and stop. In this case our warehouse will shut down after 5 minutes of inactivity\n",
    "- Autoscaling will dynamically scale your warehouse to support hundreds of concurrent users and usage spikes\n",
    "- We will create a Serverless Warehouse since that has all the latest features and offers fast performance with instant start and stop\n",
    "- Click Create\n",
    "\n",
    "\n"
   ]
  },
  {
   "cell_type": "markdown",
   "metadata": {
    "application/vnd.databricks.v1+cell": {
     "cellMetadata": {},
     "inputWidgets": {},
     "nuid": "0e85962c-cfff-4222-8d9a-66d0656f870a",
     "showTitle": false,
     "tableResultSettingsMap": {},
     "title": ""
    }
   },
   "source": [
    "## Manage Permissions on SQL Warehouse\n",
    "\n",
    "<img style=\"float: right; margin-top: 20px\" width=\"600px\" src=\"./Images/Data_Warehouse/Manage Permissions.png\"/>\n",
    "\n",
    "- In the Manage Permissions section, you can allow other users or groups to access your warehouse. \n",
    "\n"
   ]
  },
  {
   "cell_type": "markdown",
   "metadata": {
    "application/vnd.databricks.v1+cell": {
     "cellMetadata": {},
     "inputWidgets": {},
     "nuid": "1540cdd1-7a96-4aab-82d6-a2e6c46ce71e",
     "showTitle": false,
     "tableResultSettingsMap": {},
     "title": ""
    }
   },
   "source": [
    "## Monitoring of SQL Warehouse\n",
    "\n",
    " <img style=\"float: right; margin-top: 20px\" width=\"600px\" src=\"./Images/Data_Warehouse/Monitoring.png\"/>\n",
    "\n",
    "- Navigate to Monitoring tab from the Overview section\n",
    "- This Monitoring tab provides you a graphical representation that can be used to monitor your SQL Warehouse usage where cluster will autoscale based on the load.\n",
    "- This is where you can review the query load and the automatic scaling based on your workload.\n",
    "\n",
    "## Our SQL Warehouse is now ready for use!\n",
    "\n"
   ]
  },
  {
   "cell_type": "markdown",
   "metadata": {
    "application/vnd.databricks.v1+cell": {
     "cellMetadata": {},
     "inputWidgets": {},
     "nuid": "a4bc5a45-4e5e-4a31-be04-fb6245687dbc",
     "showTitle": false,
     "tableResultSettingsMap": {},
     "title": ""
    }
   },
   "source": [
    "## Explore Data from Catalog Explorer\n",
    "\n",
    "You can access all your data from Catalog on the left:\n",
    "- Tables (save under catalog and databases)\n",
    "- Volumes (containing direct file access)\n",
    "- AI models\n",
    "- Functions\n",
    "\n",
    "- We already have our Catalog, Schema and Table saved for this workshop so let's navigate to Catalog (to be updated)\n",
    "- Within this Catalog, let's select we <_Catalog Name_> that contains all our Schemas containing customer, order, and churn data\n",
    "\n",
    "## **_Intelligent AI Powered Search Experience_ \n",
    "Databricks provides intelligent unified search capbility simplifying the discovery of all the assets you need for your data and AI projects\n",
    "- You can use the search box on top to perform a Full Page search\n",
    "- The search returns all the tables, notebooks, jobs, queries that use the searched keyword\n",
    "- Improved relevance and popularity- Search uses popularity signals based on how often other users in your workspace are interacting with specific assets to improve how objects are ranked\n",
    "- Attached [here](https://www.databricks.com/blog/adding-intelligence-to-databricks-search) is the complete list of search capabilities"
   ]
  },
  {
   "cell_type": "markdown",
   "metadata": {
    "application/vnd.databricks.v1+cell": {
     "cellMetadata": {},
     "inputWidgets": {},
     "nuid": "435c988b-4527-473b-b57e-01b8f751c7af",
     "showTitle": false,
     "tableResultSettingsMap": {},
     "title": ""
    }
   },
   "source": [
    "\n",
    "## Creating your first Query \n",
    "\n",
    "\n",
    "<img style=\"float: right; margin-top: 20px\" width=\"600px\" src=\"./Images/Data_Warehouse/FirstQuery.png\"/>\n",
    "\n",
    "\n",
    "Our users can now start running SQL queries using the SQL editor and add new visualizations.\n",
    "\n",
    "The SQL Editor consists of 3 main panes:\n",
    "- Schema Browser\n",
    "- Query Pane\n",
    "- Results Pane\n",
    "\n",
    "By leveraging auto-completion and the schema browser, we can start running adhoc queries on top of our data.\n",
    "\n",
    "- Navigate to SQL Editor from the left panel\n",
    "- From the right pane click on Catalog to explore your catalog, schema, and tables\n",
    "- On the top of the Query Pane, specify your catalog and schema. This allows you to only reference the table names in your query without having to qualify the full catalog.schema.tablename everytime you run the query\n"
   ]
  },
  {
   "cell_type": "markdown",
   "metadata": {
    "application/vnd.databricks.v1+cell": {
     "cellMetadata": {},
     "inputWidgets": {},
     "nuid": "a6fa1c96-18a9-4326-8cb6-0a70d12c2be3",
     "showTitle": false,
     "tableResultSettingsMap": {},
     "title": ""
    }
   },
   "source": [
    "## Take Advantage of Databricks AI Assitant\n",
    "\n",
    "\n",
    "<img style=\"float: right; margin-top: 20px\" width=\"700px\" src=\"./Images/Data_Warehouse/DBAssitant.png\"/>\n",
    "\n",
    "\n",
    "Databricks AI Assistant provides an always-available expert to help answer your questions and deploy your projects faster.\n",
    "\n",
    "Using the Assistant, you can get help writing and explaining queries, debug code, create visualizations and much more. \n",
    "\n",
    "- From the left top corner, toggle the Databricks Assistant\n",
    "- In the text box below, type \"/\"\n",
    "- Now you can ask the assitant to explain the current code, find tables, or even optimize a query that you have written \n",
    "- Let's try to enter /findTables and see what results we get\n",
    "- We will be prompted to provide our search parameters. Let's find tables with churn features\n",
    "- The Assitant is going to help us discover the churn feature table in the respective catalog and schema"
   ]
  },
  {
   "cell_type": "code",
   "execution_count": 0,
   "metadata": {
    "application/vnd.databricks.v1+cell": {
     "cellMetadata": {
      "byteLimit": 2048000,
      "rowLimit": 10000
     },
     "inputWidgets": {},
     "nuid": "2beaa2e4-1a21-4389-b0e9-53e66e0e0877",
     "showTitle": false,
     "tableResultSettingsMap": {},
     "title": ""
    }
   },
   "outputs": [],
   "source": [
    "USE catalog main;\n",
    "USE schema pallavi_dbdemos_retail_c360;"
   ]
  },
  {
   "cell_type": "markdown",
   "metadata": {
    "application/vnd.databricks.v1+cell": {
     "cellMetadata": {},
     "inputWidgets": {},
     "nuid": "06db808c-62ce-4c22-baea-141da7573c2b",
     "showTitle": false,
     "tableResultSettingsMap": {},
     "title": ""
    }
   },
   "source": [
    "## Copy and paste the query below in the SQL Editor and analyze the results\n"
   ]
  },
  {
   "cell_type": "code",
   "execution_count": 0,
   "metadata": {
    "application/vnd.databricks.v1+cell": {
     "cellMetadata": {
      "byteLimit": 2048000,
      "rowLimit": 10000
     },
     "inputWidgets": {},
     "nuid": "58a7d385-b344-4b97-8f9c-345fcd1fc5b9",
     "showTitle": true,
     "tableResultSettingsMap": {},
     "title": "CUSTOMER SUMMARY"
    }
   },
   "outputs": [],
   "source": [
    "-- Retrieve a summary of customer purchase behavior, including total spend, order count, and average order value.\n",
    "SELECT \n",
    "    u.user_id,\n",
    "    u.firstname,\n",
    "    u.lastname,\n",
    "    u.country,\n",
    "    COUNT(o.order_id) AS total_orders,\n",
    "    SUM(o.amount) AS total_spent,\n",
    "   round(AVG(o.amount)) AS avg_order_value,\n",
    "    MAX(o.creation_date) AS last_order_date\n",
    "FROM churn_users u\n",
    "LEFT JOIN churn_orders o ON u.user_id = o.user_id\n",
    "GROUP BY u.user_id, u.firstname, u.lastname, u.country\n",
    "ORDER BY COUNT(o.order_id) DESC\n",
    "LIMIT 1000;"
   ]
  },
  {
   "cell_type": "code",
   "execution_count": 0,
   "metadata": {
    "application/vnd.databricks.v1+cell": {
     "cellMetadata": {
      "byteLimit": 2048000,
      "rowLimit": 10000
     },
     "inputWidgets": {},
     "nuid": "2a54021e-4d49-4d1c-ba87-ece0375a6525",
     "showTitle": true,
     "tableResultSettingsMap": {},
     "title": "ANALYZE CHURN FEATURES"
    }
   },
   "outputs": [],
   "source": [
    "-- Query to analyze all the data in the churn_features table\n",
    "\n",
    "select * \n",
    "from churn_features\n"
   ]
  },
  {
   "cell_type": "markdown",
   "metadata": {
    "application/vnd.databricks.v1+cell": {
     "cellMetadata": {},
     "inputWidgets": {},
     "nuid": "33656be0-7dc8-490e-9378-4a97a608fe77",
     "showTitle": false,
     "tableResultSettingsMap": {},
     "title": ""
    }
   },
   "source": [
    "## Create your first Visualization \n",
    "- From the Query Editor- click on +\n",
    "- Select Visualization\n",
    "- Select Visualization type **Bar**\n",
    "- Select **canal** for X-Axis\n",
    "- Select **user_id** for Y-axis\n",
    "- Select **count** for Y-axis \n",
    "- Select **country** for Group By column\n",
    "- Click Save to Save the visualization to the Query Editor\n",
    "\n",
    "<img src=\"./Images/Data_Warehouse/Count of users by canal and country.png\" alt=\"description\"/>"
   ]
  },
  {
   "cell_type": "markdown",
   "metadata": {
    "application/vnd.databricks.v1+cell": {
     "cellMetadata": {},
     "inputWidgets": {},
     "nuid": "ba618104-4e64-40a5-9406-51a8ba37c26a",
     "showTitle": false,
     "tableResultSettingsMap": {},
     "title": ""
    }
   },
   "source": [
    "## Add Parameters to Your Query\n",
    "\n",
    "Query parameters allow you to make your queries more dynamic and flexible by inserting variable values at runtime. Instead of hard-coding specific values into your queries, you can define parameters to filter data or modify output based on user input. \n",
    "\n",
    "This approach improves query reuse, enhances security by preventing SQL injection, and enables more efficient handling of diverse data scenarios.\n",
    "\n",
    "You can add different kinds of parameters such as:\n",
    "- Text\n",
    "- Number\n",
    "- Dropdown List\n",
    "- Query based Dropdown List\n",
    "- Date and Time\n",
    "\n",
    "For today's workshop we will be adding Text and Dropdown List Paramter to our Query\n",
    "\n",
    "- Copy and Paste the code in the cell below to your SQL Editor\n",
    "- From the gear icon next to the country parameter, select Type as Dropdown List\n",
    "- Provide the value for the dropdown list in the Values box, each value separated by a new line\n",
    "- Click OK\n",
    "- Your parametrized query is created. Now you can select different values for gender and country paramters and observe the result set\n",
    "\n",
    "\n",
    "<img style=\"float: right; width: 50px; margin-left: 20px;\" src=\"./Images/Data_Warehouse/DropdownParamter.png\" alt=\"description\"/>"
   ]
  },
  {
   "cell_type": "code",
   "execution_count": 0,
   "metadata": {
    "application/vnd.databricks.v1+cell": {
     "cellMetadata": {
      "byteLimit": 2048000,
      "rowLimit": 10000
     },
     "inputWidgets": {},
     "nuid": "0b6b8874-4a2d-4919-bb21-7d32fcda952a",
     "showTitle": true,
     "tableResultSettingsMap": {},
     "title": "ANALYZE CHURN RATE BASED ON DEMOGRAPHIC PARAMETERS"
    }
   },
   "outputs": [],
   "source": [
    "--Copy and Paste the following Query in your SQL Editor and select different Parameters to run the Query\n",
    "\n",
    "SELECT canal, \n",
    "COUNT(user_id) AS total_customers,\n",
    "SUM(CASE WHEN churn = 1 THEN 1 ELSE 0 END) AS churned_customers,\n",
    "ROUND((SUM(CASE WHEN churn = 1 THEN 1 ELSE 0 END) * 100.0 / COUNT(user_id)), 2) AS churn_rate\n",
    "FROM churn_features\n",
    "WHERE gender=:gender\n",
    "AND country = '{{country}}'\n",
    "AND canal IS NOT NULL\n",
    "GROUP BY canal\n",
    "ORDER BY churn_rate DESC;\n",
    "\n"
   ]
  },
  {
   "cell_type": "markdown",
   "metadata": {
    "application/vnd.databricks.v1+cell": {
     "cellMetadata": {},
     "inputWidgets": {},
     "nuid": "bbd06645-5338-4f7c-85de-b77bf5f39b1e",
     "showTitle": false,
     "tableResultSettingsMap": {},
     "title": ""
    }
   },
   "source": [
    "<img style=\"float: right; width: 50px; margin-left: 20px;\" src=\"./Images/Data_Warehouse/Parameterized Query.png\" alt=\"description\"/>"
   ]
  },
  {
   "cell_type": "markdown",
   "metadata": {
    "application/vnd.databricks.v1+cell": {
     "cellMetadata": {},
     "inputWidgets": {},
     "nuid": "4c0f2954-ec5a-443e-b4be-f3e497e982e8",
     "showTitle": false,
     "tableResultSettingsMap": {},
     "title": ""
    }
   },
   "source": [
    "## SAVE QUERY\n",
    "- In the SQL Editor- Click Save on the top right corner\n",
    "- Update the Name of the Query in the dialog box\n",
    "- Select the folder where you want to Save the query or Click on + to Create a new folder\n",
    "- For Today's session, let's click on + and create a new folder\n",
    "- Name the folder as \"Data Pioneer Lab\"\n",
    "- Select Create\n",
    "- Click Save\n",
    "\n",
    "<img style=\"float: right; width: 50px; margin-left: 20px;\" src=\"./Images/Data_Warehouse/Save1.png\" alt=\"description\"/>"
   ]
  },
  {
   "cell_type": "markdown",
   "metadata": {
    "application/vnd.databricks.v1+cell": {
     "cellMetadata": {},
     "inputWidgets": {},
     "nuid": "07af9cb4-28bd-4a6f-9729-f143b66b67e8",
     "showTitle": false,
     "tableResultSettingsMap": {},
     "title": ""
    }
   },
   "source": [
    "## SCHEDULE QUERY\n",
    "\n",
    "You can use scheduled query executions to update your dashboards or enable routine alerts.\n",
    "\n",
    "To set the schedule:\n",
    "\n",
    "- In the Query Editor, click Schedule>Add schedule to open a menu with schedule settings\n",
    "- Choose when to run the query\n",
    "- Click Create. Your query will run automatically according to the schedule\n",
    "<img style=\"float: right; width: 50px; margin-left: 20px;\" src=\"./Images/Data_Warehouse/ScheduleQuery.png\" alt=\"description\"/>"
   ]
  },
  {
   "cell_type": "markdown",
   "metadata": {
    "application/vnd.databricks.v1+cell": {
     "cellMetadata": {},
     "inputWidgets": {},
     "nuid": "20b82000-1f87-45a6-9454-980b46e81819",
     "showTitle": false,
     "tableResultSettingsMap": {},
     "title": ""
    }
   },
   "source": [
    "## SHARE QUERY\n",
    "\n",
    "You can share a query with different collaborators\n",
    "To share query with different users and groups:\n",
    "\n",
    "- Click the Share button at the top right to open the Sharing dialog\n",
    "- Search for and select the groups and users, and assign the permission level\n",
    "- Click Add\n",
    "- In the Sharing settings > Credentials field at the bottom, select either Run as viewer or Run as owner\n",
    "\n",
    "<img style=\"float: right; width: 50px; margin-left: 20px;\" src=\"./Images/Data_Warehouse/ShareQuery.png\" alt=\"description\"/>"
   ]
  },
  {
   "cell_type": "markdown",
   "metadata": {
    "application/vnd.databricks.v1+cell": {
     "cellMetadata": {},
     "inputWidgets": {},
     "nuid": "58e8c511-c3a8-4e66-ac10-df813fac52d6",
     "showTitle": false,
     "tableResultSettingsMap": {},
     "title": ""
    }
   },
   "source": [
    "## Going further with DBSQL & Databricks Warehouse\n",
    "\n",
    "Databricks SQL offers much more and provides a full warehouse capabilities\n",
    "\n",
    "<img style=\"float: right\" width=\"400px\" src=\"https://raw.githubusercontent.com/QuentinAmbard/databricks-demo/main/retail/resources/images/lakehouse-retail/lakehouse-retail-dbsql-pk-fk.png\" />\n",
    "\n",
    "### Data modeling\n",
    "\n",
    "Comprehensive data modeling. Save your data based on your requirements: Data vault, Star schema, Inmon...\n",
    "\n",
    "Databricks let you create your PK/FK, identity columns (auto-increment): `dbdemos.install('identity-pk-fk')`\n",
    "\n",
    "### Data ingestion made easy with DBSQL & DBT\n",
    "\n",
    "Turnkey capabilities allow analysts and analytic engineers to easily ingest data from anything like cloud storage to enterprise applications such as Salesforce, Google Analytics, or Marketo using Fivetran. It’s just one click away. \n",
    "\n",
    "Then, simply manage dependencies and transform data in-place with built-in ETL capabilities on the Lakehouse (Delta Live Table), or using your favorite tools like dbt on Databricks SQL for best-in-class performance.\n",
    "\n",
    "### Query federation\n",
    "\n",
    "Need to access cross-system data? Databricks SQL query federation let you define datasources outside of databricks (ex: PostgreSQL)\n",
    "\n",
    "### Materialized view\n",
    "\n",
    "Avoid expensive queries and materialize your tables. The engine will recompute only what's required when your data get updated. "
   ]
  }
 ],
 "metadata": {
  "application/vnd.databricks.v1+notebook": {
   "computePreferences": null,
   "dashboards": [],
   "environmentMetadata": null,
   "language": "sql",
   "notebookMetadata": {
    "pythonIndentUnit": 2
   },
   "notebookName": "Data Warehousing Lab",
   "widgets": {}
  },
  "language_info": {
   "name": "sql"
  }
 },
 "nbformat": 4,
 "nbformat_minor": 0
}
